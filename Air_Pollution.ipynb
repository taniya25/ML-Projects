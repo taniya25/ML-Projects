{
 "cells": [
  {
   "cell_type": "code",
   "execution_count": 30,
   "metadata": {},
   "outputs": [],
   "source": [
    "import numpy as np \n",
    "import matplotlib.pyplot as plt\n",
    "import pandas as pd\n"
   ]
  },
  {
   "cell_type": "code",
   "execution_count": 33,
   "metadata": {},
   "outputs": [],
   "source": [
    "data = pd.read_csv('./Train.csv')\n",
    "data = data.values\n",
    "X = data[:,0:5]\n",
    "y = data[:,5]\n"
   ]
  },
  {
   "cell_type": "code",
   "execution_count": 34,
   "metadata": {},
   "outputs": [
    {
     "name": "stdout",
     "output_type": "stream",
     "text": [
      "(1600, 6)\n"
     ]
    }
   ],
   "source": [
    "ones = np.ones((X.shape[0],1))\n",
    "X = np.hstack((ones,X))\n",
    "print(X.shape)\n"
   ]
  },
  {
   "cell_type": "code",
   "execution_count": 37,
   "metadata": {},
   "outputs": [],
   "source": [
    "def hypothesis(X,theta):\n",
    "    return np.dot(X,theta)\n",
    "\n",
    "def error(X,y,theta):\n",
    "    m = X.shape[0]\n",
    "    y_ = hypothesis(X,theta)\n",
    "    e = np.sum((y - y_)**2)\n",
    "    return e/m\n",
    "\n",
    "\n",
    "def gradient(X,y,theta):\n",
    "    m = X.shape[0]\n",
    "    y_ = hypothesis(X,theta)\n",
    "    grad = np.dot(X.T,(y_ - y))            \n",
    "    return grad/m\n",
    "\n",
    "def gradientDescent(X,y,learning_rate = 0.1, max_epoch = 300):\n",
    "    n = X.shape[1]\n",
    "    theta = np.zeros((n,))\n",
    "    error_list = []\n",
    "    for i in range(max_epoch):\n",
    "        e = error(X,y,theta)\n",
    "        error_list.append(e)\n",
    "        grad = gradient(X,y,theta)\n",
    "        theta = theta - learning_rate*grad\n",
    "            \n",
    "    return theta,error_list"
   ]
  },
  {
   "cell_type": "code",
   "execution_count": 38,
   "metadata": {},
   "outputs": [
    {
     "data": {
      "image/png": "[encoded data removed]",
      "text/plain": [
       "<Figure size 576x396 with 1 Axes>"
      ]
     },
     "metadata": {},
     "output_type": "display_data"
    }
   ],
   "source": [
    "theta,error_list = gradientDescent(X,y)\n",
    "plt.plot(error_list)\n",
    "plt.show()"
   ]
  },
  {
   "cell_type": "code",
   "execution_count": 39,
   "metadata": {},
   "outputs": [
    {
     "name": "stdout",
     "output_type": "stream",
     "text": [
      "(400, 5)\n"
     ]
    }
   ],
   "source": [
    "test_data = pd.read_csv('./Test.csv')\n",
    "X_test = test_data.values\n",
    "print(X_test.shape)"
   ]
  },
  {
   "cell_type": "code",
   "execution_count": 40,
   "metadata": {},
   "outputs": [
    {
     "name": "stdout",
     "output_type": "stream",
     "text": [
      "(400, 6)\n"
     ]
    }
   ],
   "source": [
    "ones = np.ones((X_test.shape[0],1))\n",
    "X_test = np.hstack((ones,X_test))\n",
    "print(X_test.shape)\n"
   ]
  },
  {
   "cell_type": "code",
   "execution_count": 45,
   "metadata": {},
   "outputs": [],
   "source": [
    "y_ = hypothesis(X_test,theta)"
   ]
  },
  {
   "cell_type": "code",
   "execution_count": 50,
   "metadata": {},
   "outputs": [],
   "source": [
    "df = pd.DataFrame(data = y_)\n",
    "df.columns = [\"target\"]\n",
    "df.to_csv('air_pred.csv')"
   ]
  },
  {
   "cell_type": "code",
   "execution_count": null,
   "metadata": {},
   "outputs": [],
   "source": []
  }
 ],
 "metadata": {
  "kernelspec": {
   "display_name": "Python 3",
   "language": "python",
   "name": "python3"
  },
  "language_info": {
   "codemirror_mode": {
    "name": "ipython",
    "version": 3
   },
   "file_extension": ".py",
   "mimetype": "text/x-python",
   "name": "python",
   "nbconvert_exporter": "python",
   "pygments_lexer": "ipython3",
   "version": "3.7.4"
  }
 },
 "nbformat": 4,
 "nbformat_minor": 2
}
